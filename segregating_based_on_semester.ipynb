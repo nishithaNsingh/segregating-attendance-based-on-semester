{
  "nbformat": 4,
  "nbformat_minor": 0,
  "metadata": {
    "colab": {
      "provenance": [],
      "authorship_tag": "ABX9TyM1RyeoEQurJ4PeHjiEw0Hb",
      "include_colab_link": true
    },
    "kernelspec": {
      "name": "python3",
      "display_name": "Python 3"
    },
    "language_info": {
      "name": "python"
    }
  },
  "cells": [
    {
      "cell_type": "markdown",
      "metadata": {
        "id": "view-in-github",
        "colab_type": "text"
      },
      "source": [
        "<a href=\"https://colab.research.google.com/github/nishithaNsingh/segregating-attendance-based-on-semester/blob/main/segregating_based_on_semester.ipynb\" target=\"_parent\"><img src=\"https://colab.research.google.com/assets/colab-badge.svg\" alt=\"Open In Colab\"/></a>"
      ]
    },
    {
      "cell_type": "code",
      "source": [
        "!pip install xlsxwriter\n"
      ],
      "metadata": {
        "colab": {
          "base_uri": "https://localhost:8080/"
        },
        "id": "TQmMzMIfKidC",
        "outputId": "e0ac9ba5-233a-452c-9985-3e4ee6bd8515"
      },
      "execution_count": 1,
      "outputs": [
        {
          "output_type": "stream",
          "name": "stdout",
          "text": [
            "Collecting xlsxwriter\n",
            "  Downloading XlsxWriter-3.2.2-py3-none-any.whl.metadata (2.8 kB)\n",
            "Downloading XlsxWriter-3.2.2-py3-none-any.whl (165 kB)\n",
            "\u001b[?25l   \u001b[90m━━━━━━━━━━━━━━━━━━━━━━━━━━━━━━━━━━━━━━━━\u001b[0m \u001b[32m0.0/165.1 kB\u001b[0m \u001b[31m?\u001b[0m eta \u001b[36m-:--:--\u001b[0m\r\u001b[2K   \u001b[91m━━━━━━━━━━━━━━━━━━━━━━━━━━━━━━━━━━━━━━━\u001b[0m\u001b[91m╸\u001b[0m \u001b[32m163.8/165.1 kB\u001b[0m \u001b[31m5.9 MB/s\u001b[0m eta \u001b[36m0:00:01\u001b[0m\r\u001b[2K   \u001b[90m━━━━━━━━━━━━━━━━━━━━━━━━━━━━━━━━━━━━━━━━\u001b[0m \u001b[32m165.1/165.1 kB\u001b[0m \u001b[31m4.1 MB/s\u001b[0m eta \u001b[36m0:00:00\u001b[0m\n",
            "\u001b[?25hInstalling collected packages: xlsxwriter\n",
            "Successfully installed xlsxwriter-3.2.2\n"
          ]
        }
      ]
    },
    {
      "cell_type": "code",
      "execution_count": 3,
      "metadata": {
        "colab": {
          "base_uri": "https://localhost:8080/"
        },
        "id": "pCov48biJ69B",
        "outputId": "6c1988bc-7152-4ab9-ad1a-bfcc91ad533e"
      },
      "outputs": [
        {
          "output_type": "stream",
          "name": "stderr",
          "text": [
            "<ipython-input-3-f3e50622d681>:43: UserWarning: Boolean Series key will be reindexed to match DataFrame index.\n",
            "  filtered_data = group[condition]\n",
            "<ipython-input-3-f3e50622d681>:43: UserWarning: Boolean Series key will be reindexed to match DataFrame index.\n",
            "  filtered_data = group[condition]\n",
            "<ipython-input-3-f3e50622d681>:43: UserWarning: Boolean Series key will be reindexed to match DataFrame index.\n",
            "  filtered_data = group[condition]\n",
            "<ipython-input-3-f3e50622d681>:43: UserWarning: Boolean Series key will be reindexed to match DataFrame index.\n",
            "  filtered_data = group[condition]\n",
            "<ipython-input-3-f3e50622d681>:43: UserWarning: Boolean Series key will be reindexed to match DataFrame index.\n",
            "  filtered_data = group[condition]\n",
            "<ipython-input-3-f3e50622d681>:43: UserWarning: Boolean Series key will be reindexed to match DataFrame index.\n",
            "  filtered_data = group[condition]\n",
            "<ipython-input-3-f3e50622d681>:43: UserWarning: Boolean Series key will be reindexed to match DataFrame index.\n",
            "  filtered_data = group[condition]\n",
            "<ipython-input-3-f3e50622d681>:43: UserWarning: Boolean Series key will be reindexed to match DataFrame index.\n",
            "  filtered_data = group[condition]\n"
          ]
        },
        {
          "output_type": "stream",
          "name": "stdout",
          "text": [
            "✅ File '/content/generated/_4.xlsx' created successfully.\n"
          ]
        },
        {
          "output_type": "stream",
          "name": "stderr",
          "text": [
            "<ipython-input-3-f3e50622d681>:43: UserWarning: Boolean Series key will be reindexed to match DataFrame index.\n",
            "  filtered_data = group[condition]\n",
            "<ipython-input-3-f3e50622d681>:43: UserWarning: Boolean Series key will be reindexed to match DataFrame index.\n",
            "  filtered_data = group[condition]\n",
            "<ipython-input-3-f3e50622d681>:43: UserWarning: Boolean Series key will be reindexed to match DataFrame index.\n",
            "  filtered_data = group[condition]\n",
            "<ipython-input-3-f3e50622d681>:43: UserWarning: Boolean Series key will be reindexed to match DataFrame index.\n",
            "  filtered_data = group[condition]\n",
            "<ipython-input-3-f3e50622d681>:43: UserWarning: Boolean Series key will be reindexed to match DataFrame index.\n",
            "  filtered_data = group[condition]\n",
            "<ipython-input-3-f3e50622d681>:43: UserWarning: Boolean Series key will be reindexed to match DataFrame index.\n",
            "  filtered_data = group[condition]\n",
            "<ipython-input-3-f3e50622d681>:43: UserWarning: Boolean Series key will be reindexed to match DataFrame index.\n",
            "  filtered_data = group[condition]\n",
            "<ipython-input-3-f3e50622d681>:43: UserWarning: Boolean Series key will be reindexed to match DataFrame index.\n",
            "  filtered_data = group[condition]\n",
            "<ipython-input-3-f3e50622d681>:43: UserWarning: Boolean Series key will be reindexed to match DataFrame index.\n",
            "  filtered_data = group[condition]\n"
          ]
        },
        {
          "output_type": "stream",
          "name": "stdout",
          "text": [
            "✅ File '/content/generated/_6.xlsx' created successfully.\n",
            "✅ File '/content/generated/_8.xlsx' created successfully.\n"
          ]
        },
        {
          "output_type": "stream",
          "name": "stderr",
          "text": [
            "<ipython-input-3-f3e50622d681>:43: UserWarning: Boolean Series key will be reindexed to match DataFrame index.\n",
            "  filtered_data = group[condition]\n",
            "<ipython-input-3-f3e50622d681>:43: UserWarning: Boolean Series key will be reindexed to match DataFrame index.\n",
            "  filtered_data = group[condition]\n",
            "<ipython-input-3-f3e50622d681>:43: UserWarning: Boolean Series key will be reindexed to match DataFrame index.\n",
            "  filtered_data = group[condition]\n",
            "<ipython-input-3-f3e50622d681>:43: UserWarning: Boolean Series key will be reindexed to match DataFrame index.\n",
            "  filtered_data = group[condition]\n",
            "<ipython-input-3-f3e50622d681>:43: UserWarning: Boolean Series key will be reindexed to match DataFrame index.\n",
            "  filtered_data = group[condition]\n",
            "<ipython-input-3-f3e50622d681>:43: UserWarning: Boolean Series key will be reindexed to match DataFrame index.\n",
            "  filtered_data = group[condition]\n",
            "<ipython-input-3-f3e50622d681>:43: UserWarning: Boolean Series key will be reindexed to match DataFrame index.\n",
            "  filtered_data = group[condition]\n"
          ]
        },
        {
          "output_type": "execute_result",
          "data": {
            "text/plain": [
              "['/content/generated/_4.xlsx',\n",
              " '/content/generated/_6.xlsx',\n",
              " '/content/generated/_8.xlsx']"
            ]
          },
          "metadata": {},
          "execution_count": 3
        }
      ],
      "source": [
        "import pandas as pd\n",
        "import xlsxwriter  # Required for writing Excel files\n",
        "\n",
        "# Load Excel file\n",
        "file_path = \"/content/students_5000_new_diffy.xlsx\"  # Update this path if needed\n",
        "df = pd.read_excel(file_path)\n",
        "\n",
        "# Extract Year and Branch\n",
        "df[\"Year\"] = df[\"Roll Number\"].str.extract(r\"^(\\d{4})\").astype(int)\n",
        "df[\"Branch\"] = df[\"Roll Number\"].str.extract(r\"(\\D+)\", expand=False).str[4:]  # Extracting Branch\n",
        "\n",
        "# Map semester based on admission year\n",
        "current_year = 2025  # Update if needed\n",
        "df[\"Semester\"] = (current_year - df[\"Year\"]) * 2\n",
        "\n",
        "# Define attendance categories\n",
        "attendance_ranges = {\n",
        "    \"<75%\": df[\"Attendance (%)\"] < 75,\n",
        "    \"65-75%\": (df[\"Attendance (%)\"] >= 65) & (df[\"Attendance (%)\"] < 75),\n",
        "    \"50-65%\": (df[\"Attendance (%)\"] >= 50) & (df[\"Attendance (%)\"] < 65),\n",
        "    \"40-50%\": (df[\"Attendance (%)\"] >= 40) & (df[\"Attendance (%)\"] < 50),\n",
        "    \"30-40%\": (df[\"Attendance (%)\"] >= 30) & (df[\"Attendance (%)\"] < 40),\n",
        "    \"20-30%\": (df[\"Attendance (%)\"] >= 20) & (df[\"Attendance (%)\"] < 30),\n",
        "    \"10-20%\": (df[\"Attendance (%)\"] >= 10) & (df[\"Attendance (%)\"] < 20),\n",
        "    \"0-10%\": (df[\"Attendance (%)\"] >= 0) & (df[\"Attendance (%)\"] < 10),\n",
        "}\n",
        "\n",
        "# Group by Branch and Semester\n",
        "grouped = df.groupby([\"Branch\", \"Semester\"])\n",
        "\n",
        "# Save separate files for each group\n",
        "generated_files = []\n",
        "for (branch, sem), group in grouped:\n",
        "    output_file = f\"/content/generated/{branch}_{sem}.xlsx\"  #create a directory and add the path with \"/\" after that path\n",
        "    generated_files.append(output_file)\n",
        "\n",
        "    with pd.ExcelWriter(output_file, engine=\"xlsxwriter\") as writer:\n",
        "        # Write all students to \"All Students\" sheet\n",
        "        group.to_excel(writer, sheet_name=\"All Students\", index=False)\n",
        "\n",
        "        # Write attendance categories to separate sheets\n",
        "        for category, condition in attendance_ranges.items():\n",
        "            filtered_data = group[condition]\n",
        "            if not filtered_data.empty:\n",
        "                filtered_data.to_excel(writer, sheet_name=category, index=False)\n",
        "\n",
        "    print(f\"✅ File '{output_file}' created successfully.\")\n",
        "\n",
        "# Display the generated files\n",
        "generated_files\n"
      ]
    },
    {
      "cell_type": "code",
      "source": [],
      "metadata": {
        "id": "KQ1L8T0lKunh"
      },
      "execution_count": null,
      "outputs": []
    }
  ]
}